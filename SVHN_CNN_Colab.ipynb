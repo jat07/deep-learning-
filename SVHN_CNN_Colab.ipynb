{
  "nbformat": 4,
  "nbformat_minor": 0,
  "metadata": {
    "colab": {
      "name": "SVHN_CNN_Colab.ipynb",
      "version": "0.3.2",
      "provenance": [],
      "collapsed_sections": [],
      "toc_visible": true
    },
    "kernelspec": {
      "name": "python2",
      "display_name": "Python 2"
    },
    "accelerator": "GPU"
  },
  "cells": [
    {
      "metadata": {
        "id": "LxjUOqbicMOa",
        "colab_type": "text"
      },
      "cell_type": "markdown",
      "source": [
        "<h1>SVHN Classification using CNNs</h1>\n",
        "\n",
        "---\n",
        "\n"
      ]
    },
    {
      "metadata": {
        "id": "GTQlTR2Scks4",
        "colab_type": "text"
      },
      "cell_type": "markdown",
      "source": [
        "# Importing Keras Modules\n"
      ]
    },
    {
      "metadata": {
        "id": "1ve46hnH315r",
        "colab_type": "code",
        "colab": {}
      },
      "cell_type": "code",
      "source": [
        "#Importing important modules\n",
        "import keras\n",
        "from keras.models import Sequential\n",
        "from keras.layers import Dense, Dropout, Flatten\n",
        "from keras.layers import Conv2D, MaxPooling2D\n",
        "from keras.callbacks import ModelCheckpoint, EarlyStopping\n",
        "#Installing Tensorboard for Colab\n",
        "!pip install tensorboardcolab"
      ],
      "execution_count": 0,
      "outputs": []
    },
    {
      "metadata": {
        "id": "4gHx-n1N-8FK",
        "colab_type": "code",
        "colab": {}
      },
      "cell_type": "code",
      "source": [
        "from google.colab import drive\n",
        "drive.mount('/content/drive')"
      ],
      "execution_count": 0,
      "outputs": []
    },
    {
      "metadata": {
        "id": "OKVkkLaLdPGU",
        "colab_type": "text"
      },
      "cell_type": "markdown",
      "source": [
        "# Loading the Dataset"
      ]
    },
    {
      "metadata": {
        "id": "JK0ZRJoxhrFe",
        "colab_type": "text"
      },
      "cell_type": "markdown",
      "source": [
        "<h3>Import train and test sets of  SVHN dataset</h3>"
      ]
    },
    {
      "metadata": {
        "id": "Jv3nQR9L4WE2",
        "colab_type": "code",
        "colab": {}
      },
      "cell_type": "code",
      "source": [
        "import h5py\n",
        "import numpy as np\n",
        "\n",
        "# Open the file as readonly\n",
        "h5f = h5py.File('/content/drive/My Drive/DLCP/Project-1/Data/SVHN_single_grey1.h5', 'r')\n",
        "\n",
        "# Load the training, test and validation set\n",
        "x_train = h5f['X_train'][:]\n",
        "y_train = h5f['y_train'][:]\n",
        "x_test = h5f['X_test'][:]\n",
        "y_test = h5f['y_test'][:]\n",
        "\n",
        "\n",
        "# Close this file\n",
        "h5f.close()\n"
      ],
      "execution_count": 0,
      "outputs": []
    },
    {
      "metadata": {
        "id": "PEcVz-OotHWM",
        "colab_type": "text"
      },
      "cell_type": "markdown",
      "source": [
        "<h4>Visualizing the dataset</h4>\n",
        "(Visualize first 25 test images from the dataset using matplotlib)  **2.5 Points**"
      ]
    },
    {
      "metadata": {
        "id": "dqpGua7ZqUdV",
        "colab_type": "code",
        "colab": {}
      },
      "cell_type": "code",
      "source": [
        ""
      ],
      "execution_count": 0,
      "outputs": []
    },
    {
      "metadata": {
        "id": "0D29eowNhmU8",
        "colab_type": "text"
      },
      "cell_type": "markdown",
      "source": [
        "<h3>Reshape train and test sets into shapes compatible with keras models</h3>\n",
        "\n",
        "<h4>Keras expects data to be in the format (N_E.N_H,N_W,N_C)  N_E = Number of Examples, N_H = height, N_W = Width, N_C = Number of Channels.</h4>\n"
      ]
    },
    {
      "metadata": {
        "id": "KYCYajiwdozQ",
        "colab_type": "code",
        "colab": {}
      },
      "cell_type": "code",
      "source": [
        "# input image dimensions\n",
        "img_rows, img_cols = 32, 32\n",
        "\n",
        "#Keras expects data to be in the format (N_E.N_H,N_W,N_C)\n",
        "#N_E = Number of Examples, N_H = height, N_W = Width, N_C = Number of Channels.\n",
        "x_train = x_train.reshape(x_train.shape[0], img_rows, img_cols, 1)\n",
        "x_test = x_test.reshape(x_test.shape[0], img_rows, img_cols, 1)\n",
        "input_shape = (img_rows, img_cols, 1)"
      ],
      "execution_count": 0,
      "outputs": []
    },
    {
      "metadata": {
        "id": "kMGQuoyNiqmL",
        "colab_type": "text"
      },
      "cell_type": "markdown",
      "source": [
        "<h3>Pre-processing the dataset</h3>\n",
        "<h4>Normalizing the input</h4>"
      ]
    },
    {
      "metadata": {
        "id": "M1kXqqfV4d_b",
        "colab_type": "code",
        "colab": {}
      },
      "cell_type": "code",
      "source": [
        "x_train = x_train.astype('float32')\n",
        "x_test = x_test.astype('float32')\n",
        "\n",
        "#Normalizing the input\n",
        "x_train /= 255.0\n",
        "x_test /= 255.0\n",
        "print('x_train shape:', x_train.shape)\n",
        "print(x_train.shape[0], 'train samples')\n",
        "print(x_test.shape[0], 'test samples')"
      ],
      "execution_count": 0,
      "outputs": []
    },
    {
      "metadata": {
        "id": "nlJ0ogZ4dG3G",
        "colab_type": "code",
        "colab": {}
      },
      "cell_type": "code",
      "source": [
        "batch_size = 128\n",
        "num_classes = 10\n",
        "epochs = 12"
      ],
      "execution_count": 0,
      "outputs": []
    },
    {
      "metadata": {
        "id": "N8TE7MoZi_w7",
        "colab_type": "text"
      },
      "cell_type": "markdown",
      "source": [
        "<h4>Convert Labels from digits to one hot vectors</h4>  **2.5 Points**"
      ]
    },
    {
      "metadata": {
        "id": "cqh-cVtT4ijU",
        "colab_type": "code",
        "colab": {}
      },
      "cell_type": "code",
      "source": [
        ""
      ],
      "execution_count": 0,
      "outputs": []
    },
    {
      "metadata": {
        "id": "QV4R9IbjjOVT",
        "colab_type": "text"
      },
      "cell_type": "markdown",
      "source": [
        "# Building the CNN \n",
        "\n",
        "<h4>Define the layers of model</h4>  **5 Points**"
      ]
    },
    {
      "metadata": {
        "id": "7sse4G5d4lpY",
        "colab_type": "code",
        "colab": {}
      },
      "cell_type": "code",
      "source": [
        ""
      ],
      "execution_count": 0,
      "outputs": []
    },
    {
      "metadata": {
        "id": "iDYmge-AlJTX",
        "colab_type": "text"
      },
      "cell_type": "markdown",
      "source": [
        "<h4>Set Adam Optimizer and Loss function for training</h4>  **2.5 Points**"
      ]
    },
    {
      "metadata": {
        "id": "W-y6cZaL4p6R",
        "colab_type": "code",
        "colab": {}
      },
      "cell_type": "code",
      "source": [
        ""
      ],
      "execution_count": 0,
      "outputs": []
    },
    {
      "metadata": {
        "id": "wVHOojpJlvVa",
        "colab_type": "text"
      },
      "cell_type": "markdown",
      "source": [
        "# Training the CNN - 10 Points"
      ]
    },
    {
      "metadata": {
        "id": "PF0yBjA0jkm-",
        "colab_type": "text"
      },
      "cell_type": "markdown",
      "source": [
        "<h4>Initializing the Tensorboard callback for visualization of training</h4>"
      ]
    },
    {
      "metadata": {
        "id": "fCysYIM2I-6f",
        "colab_type": "code",
        "colab": {}
      },
      "cell_type": "code",
      "source": [
        ""
      ],
      "execution_count": 0,
      "outputs": []
    },
    {
      "metadata": {
        "id": "Oe1YtBzrmCaL",
        "colab_type": "text"
      },
      "cell_type": "markdown",
      "source": [
        "<h4>Initializing Early stopping and Model chekpoint callbacks </h4>"
      ]
    },
    {
      "metadata": {
        "id": "WJ3u9GaFl-Xl",
        "colab_type": "code",
        "colab": {}
      },
      "cell_type": "code",
      "source": [
        ""
      ],
      "execution_count": 0,
      "outputs": []
    },
    {
      "metadata": {
        "id": "wJIhBhbDmZ8U",
        "colab_type": "text"
      },
      "cell_type": "markdown",
      "source": [
        "<h4>Fit the model to the dataset</h4>"
      ]
    },
    {
      "metadata": {
        "id": "QDBvTM2B4smP",
        "colab_type": "code",
        "colab": {}
      },
      "cell_type": "code",
      "source": [
        ""
      ],
      "execution_count": 0,
      "outputs": []
    },
    {
      "metadata": {
        "id": "U3WWyAm_me96",
        "colab_type": "text"
      },
      "cell_type": "markdown",
      "source": [
        "# Evaluating the CNN"
      ]
    },
    {
      "metadata": {
        "id": "_DnRZGxSmi5C",
        "colab_type": "text"
      },
      "cell_type": "markdown",
      "source": [
        "<h4>Evaluate trained model on the test set</h4>  ** 2.5 Points**"
      ]
    },
    {
      "metadata": {
        "id": "q4oZhZm34v_R",
        "colab_type": "code",
        "colab": {}
      },
      "cell_type": "code",
      "source": [
        ""
      ],
      "execution_count": 0,
      "outputs": []
    },
    {
      "metadata": {
        "id": "tWuDdzf0rgf-",
        "colab_type": "text"
      },
      "cell_type": "markdown",
      "source": [
        "<h4>Visualize 5 test set image predictions</h4>  **2.5 Points**"
      ]
    },
    {
      "metadata": {
        "id": "fiT52J2Gqk2D",
        "colab_type": "code",
        "colab": {}
      },
      "cell_type": "code",
      "source": [
        ""
      ],
      "execution_count": 0,
      "outputs": []
    },
    {
      "metadata": {
        "id": "Fvl0nK6pmsmt",
        "colab_type": "text"
      },
      "cell_type": "markdown",
      "source": [
        "# Saving the CNN"
      ]
    },
    {
      "metadata": {
        "id": "xM4Ram-pmyPd",
        "colab_type": "text"
      },
      "cell_type": "markdown",
      "source": [
        "<h4>Save the trained weights and model in h5 files</h4>  **2.5 Points**"
      ]
    },
    {
      "metadata": {
        "id": "fhTA0qnm85kH",
        "colab_type": "code",
        "colab": {}
      },
      "cell_type": "code",
      "source": [
        ""
      ],
      "execution_count": 0,
      "outputs": []
    }
  ]
}